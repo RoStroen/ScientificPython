{
 "cells": [
  {
   "attachments": {},
   "cell_type": "markdown",
   "metadata": {},
   "source": [
    "# Задача 44. Эллипс\n",
    "## Условие\n",
    "Кривую с уравнением\n",
    "$$\n",
    "\\frac{x^2}{a^2} + \\frac{y^2}{b^2} = 1\n",
    "$$\n",
    "называют *эллипсом*. Если $a \\ge b > 0$, то $a$ называют его *большой полуосью*, $b$ -- *малой полуосью*.\n",
    "Величина $$\\varepsilon={\\sqrt {1-{\\frac {b^{2}}{a^{2}}}}}$$ называется *эксцентриситетом* эллипса. Окружность радиуса $r$ -- это эллипс, в котором $r=a=b$, а эксцентриситет равен $0$.\n",
    "\n",
    "Формула для площади эллипса проста: $S = ab\\pi$, но с периметром ситуация сложнее. Периметр эллипса равен\n",
    "$$\n",
    "L=4a\\int \\limits _{0}^{\\pi /2}{\\sqrt{\\strut 1-\\varepsilon^2\\cos^2\\varphi}}\\,d\\varphi = 4a E(\\varepsilon),\n",
    "$$ \n",
    "где $E(\\varepsilon)$ -- полный эллиптический интеграл 2-го рода.\n",
    "\n",
    "Проволоку длиной $10$ *см* хотят изогнуть в виде эллипса, так, чтобы одна из его полуосей равнялась $1$ *см*. Чему равна вторая полуось? Запишите соответствующее уравнение и решите его численно, например, методом `scipy.optimize.brentq`. Для вычисления $E(\\varepsilon)$ воспользуйтесь `scipy.special.ellipe` или любым подходящим численным методом интегрирования. Постройте полученный эллипс (позаботьтесь, чтобы масштаб по обеим осям был одинаковым).\n",
    "\n",
    "Сравните ваше решение с тем, которое получается, если для вычисления $L$ использовать приближенную формулу\n",
    "$$\n",
    "L\\approx 4\\cdot{\\frac {\\pi ab+(a-b)^{2}}{a+b}}.\n",
    "$$\n"
   ]
  },
  {
   "attachments": {},
   "cell_type": "markdown",
   "metadata": {},
   "source": [
    "## Решение\n",
    "### Подключение библиотек\n"
   ]
  },
  {
   "cell_type": "code",
   "execution_count": 1,
   "metadata": {},
   "outputs": [
    {
     "ename": "ModuleNotFoundError",
     "evalue": "No module named 'numpy'",
     "output_type": "error",
     "traceback": [
      "\u001b[1;31m---------------------------------------------------------------------------\u001b[0m",
      "\u001b[1;31mModuleNotFoundError\u001b[0m                       Traceback (most recent call last)",
      "Cell \u001b[1;32mIn[1], line 1\u001b[0m\n\u001b[1;32m----> 1\u001b[0m \u001b[39mimport\u001b[39;00m \u001b[39mnumpy\u001b[39;00m \u001b[39mas\u001b[39;00m \u001b[39mnp\u001b[39;00m\n\u001b[0;32m      2\u001b[0m \u001b[39mfrom\u001b[39;00m \u001b[39mscipy\u001b[39;00m\u001b[39m.\u001b[39;00m\u001b[39moptimize\u001b[39;00m \u001b[39mimport\u001b[39;00m brentq\n\u001b[0;32m      3\u001b[0m \u001b[39mfrom\u001b[39;00m \u001b[39mscipy\u001b[39;00m\u001b[39m.\u001b[39;00m\u001b[39mspecial\u001b[39;00m \u001b[39mimport\u001b[39;00m ellipe\n",
      "\u001b[1;31mModuleNotFoundError\u001b[0m: No module named 'numpy'"
     ]
    }
   ],
   "source": [
    "import numpy as np\n",
    "from scipy.optimize import brentq\n",
    "from scipy.special import ellipe\n",
    "import matplotlib.pyplot as plt\n"
   ]
  },
  {
   "attachments": {},
   "cell_type": "markdown",
   "metadata": {},
   "source": [
    "Решение задачи"
   ]
  },
  {
   "attachments": {},
   "cell_type": "markdown",
   "metadata": {},
   "source": [
    "Для начала рассмотрим функцию find_second_semiaxis(). Ее цель - вычислить значение второй полуоси эллипса по заданному периметру и значению первой полуоси.\n",
    "\n",
    "В этой функции используется метод Брента-Деккера для нахождения значения второй полуоси, который является численным методом решения уравнений. Функция brentq() из модуля scipy.optimize принимает на вход функцию, корни которой необходимо найти, и интервал, в котором этот корень находится. В данном случае корень ищется на интервале [0,a], где a - значение первой полуоси. Функция, передаваемая в brentq() через лямбда-выражение, представляет собой уравнение для периметра эллипса: 4 * (np.pi * a * x + (a - x) ** 2) / (a + x) = perimeter."
   ]
  },
  {
   "cell_type": "code",
   "execution_count": null,
   "metadata": {},
   "outputs": [],
   "source": [
    "def find_second_semiaxis():\n",
    "    perimeter = 10  # периметр эллипса\n",
    "    a = 1  # первая полуось\n",
    "    b = brentq(lambda x: 4 * (np.pi * a * x + (a - x) ** 2) / (a + x) - perimeter, 0, a)\n",
    "    return b"
   ]
  },
  {
   "attachments": {},
   "cell_type": "markdown",
   "metadata": {},
   "source": [
    "Затем функция compute_ellipse() строит эллипс по найденным значениям полуосей. В функции определяются параметры эллипса (значения полуосей), затем задается параметрическое уравнение эллипса через лямбда-выражение, а также массив значений параметра t на интервале [0, 2 * np.pi], который будет использоваться для построения эллипса.\n",
    "\n",
    "Координаты точек эллипса (x,y) вычисляются с помощью заданного уравнения и массива t. Затем функция использует библиотеку matplotlib для построения графика эллипса."
   ]
  },
  {
   "cell_type": "code",
   "execution_count": null,
   "metadata": {},
   "outputs": [],
   "source": [
    "def compute_ellipse():\n",
    "    a = 1  # первая полуось\n",
    "    b = find_second_semiaxis()  # вторая полуось\n",
    "    ellipse_equation = lambda t: a * np.cos(t), b * np.sin(t)  # уравнение эллипса\n",
    "    t = np.linspace(0, 2 * np.pi, 100)  # параметр t для построения эллипса\n",
    "    x, y = ellipse_equation(t)  # координаты точек эллипса\n",
    "\n",
    "    plt.figure(figsize=(6, 6))\n",
    "    plt.plot(x, y)\n",
    "    plt.axis('equal')\n",
    "    plt.title('Эллипс')\n",
    "    plt.xlabel('x')\n",
    "    plt.ylabel('y')\n",
    "    plt.show()\n"
   ]
  },
  {
   "attachments": {},
   "cell_type": "markdown",
   "metadata": {},
   "source": [
    "Функция compare_approximation() сравнивает точный периметр эллипса (вычисленный аналитически) с приближенным значением, полученным из формулы Эйлера. Формула Эйлера используется в случаях, когда точное значение дуги эллипса не может быть выражено через элементарные функции. Приближенный периметр вычисляется по формуле: 4 * (np.pi * a * b + (a - b) ** 2) / (a + b).\n"
   ]
  },
  {
   "cell_type": "code",
   "execution_count": null,
   "metadata": {},
   "outputs": [],
   "source": [
    "def compare_approximation():\n",
    "    a = 1  # первая полуось\n",
    "    b = find_second_semiaxis()  # вторая полуось\n",
    "\n",
    "    perimeter_exact = 2 * np.pi * np.sqrt((a ** 2 + b ** 2) / 2)  # точный периметр эллипса\n",
    "    perimeter_approx = 4 * (np.pi * a * b + (a - b) ** 2) / (a + b)  # приближенный периметр эллипса\n",
    "\n",
    "    print(\"Точный периметр эллипса: {:.2f} см\".format(perimeter_exact))\n",
    "    print(\"Приближенный периметр эллипса: {:.2f} см\".format(perimeter_approx))"
   ]
  },
  {
   "attachments": {},
   "cell_type": "markdown",
   "metadata": {},
   "source": [
    "В главной функции main() выводится значение второй полуоси, затем вызывается функция сравнения приближенного и точного периметров, после чего происходит построение самого эллипса."
   ]
  },
  {
   "cell_type": "code",
   "execution_count": null,
   "metadata": {},
   "outputs": [],
   "source": [
    "def main():\n",
    "    b = find_second_semiaxis()\n",
    "    print(\"Вторая полуось эллипса: {:.2f} см\".format(b))\n",
    "\n",
    "    compare_approximation()\n",
    "\n",
    "    compute_ellipse()\n",
    "\n",
    "if __name__ == '__main__':\n",
    "    main()\n"
   ]
  },
  {
   "attachments": {},
   "cell_type": "markdown",
   "metadata": {},
   "source": [
    "## Вывод\n"
   ]
  },
  {
   "attachments": {},
   "cell_type": "markdown",
   "metadata": {},
   "source": [
    "Итак, данный код решает задачу нахождения второй полуоси и построения эллипса на основе заданного периметра и первой полуоси. Кроме того, функция compare_approximation() демонстрирует приближенное вычисление периметра эллипса с помощью формулы Эйлера."
   ]
  }
 ],
 "metadata": {
  "kernelspec": {
   "display_name": "Python 3",
   "language": "python",
   "name": "python3"
  },
  "language_info": {
   "codemirror_mode": {
    "name": "ipython",
    "version": 3
   },
   "file_extension": ".py",
   "mimetype": "text/x-python",
   "name": "python",
   "nbconvert_exporter": "python",
   "pygments_lexer": "ipython3",
   "version": "3.11.3"
  },
  "orig_nbformat": 4
 },
 "nbformat": 4,
 "nbformat_minor": 2
}
